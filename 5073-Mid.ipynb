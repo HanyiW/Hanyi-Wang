{
 "cells": [
  {
   "cell_type": "code",
   "execution_count": 1,
   "id": "035c9776",
   "metadata": {},
   "outputs": [],
   "source": [
    "%matplotlib inline\n",
    "import pandas as pd\n",
    "import numpy as np\n",
    "import scipy as sp\n",
    "import os\n",
    "import matplotlib.pyplot as plt\n",
    "import matplotlib as mpl\n",
    "import seaborn as sns\n",
    "import warnings\n",
    "warnings.simplefilter(action='ignore', category=FutureWarning)\n",
    "from sklearn.exceptions import DataConversionWarning\n",
    "warnings.filterwarnings(action='ignore', category=DataConversionWarning)\n",
    "\n",
    "from sklearn.model_selection import train_test_split\n",
    "\n",
    "from sklearn.ensemble import RandomForestClassifier\n",
    "from sklearn.preprocessing import StandardScaler\n",
    "from sklearn.neighbors import KNeighborsClassifier\n",
    "from sklearn.model_selection import GridSearchCV\n",
    "from sklearn.model_selection import cross_val_score\n",
    "from sklearn.model_selection import KFold\n",
    "from sklearn.model_selection import StratifiedKFold\n",
    "from sklearn.ensemble import BaggingClassifier\n",
    "from sklearn.tree import DecisionTreeClassifier\n",
    "from sklearn.svm import SVC"
   ]
  },
  {
   "cell_type": "markdown",
   "id": "6c11a307",
   "metadata": {},
   "source": [
    "# 1.  Import the spam dataset and print the first six rows. "
   ]
  },
  {
   "cell_type": "code",
   "execution_count": 2,
   "id": "05de730e",
   "metadata": {},
   "outputs": [
    {
     "data": {
      "text/html": [
       "<div>\n",
       "<style scoped>\n",
       "    .dataframe tbody tr th:only-of-type {\n",
       "        vertical-align: middle;\n",
       "    }\n",
       "\n",
       "    .dataframe tbody tr th {\n",
       "        vertical-align: top;\n",
       "    }\n",
       "\n",
       "    .dataframe thead th {\n",
       "        text-align: right;\n",
       "    }\n",
       "</style>\n",
       "<table border=\"1\" class=\"dataframe\">\n",
       "  <thead>\n",
       "    <tr style=\"text-align: right;\">\n",
       "      <th></th>\n",
       "      <th>word_freq_make:</th>\n",
       "      <th>word_freq_address:</th>\n",
       "      <th>word_freq_all:</th>\n",
       "      <th>word_freq_3d:</th>\n",
       "      <th>word_freq_our:</th>\n",
       "      <th>word_freq_over:</th>\n",
       "      <th>word_freq_remove:</th>\n",
       "      <th>word_freq_internet:</th>\n",
       "      <th>word_freq_order:</th>\n",
       "      <th>word_freq_mail:</th>\n",
       "      <th>...</th>\n",
       "      <th>char_freq_;:</th>\n",
       "      <th>char_freq_(:</th>\n",
       "      <th>char_freq_[:</th>\n",
       "      <th>char_freq_!:</th>\n",
       "      <th>char_freq_$:</th>\n",
       "      <th>char_freq_#:</th>\n",
       "      <th>capital_run_length_average:</th>\n",
       "      <th>capital_run_length_longest:</th>\n",
       "      <th>capital_run_length_total:</th>\n",
       "      <th>spam</th>\n",
       "    </tr>\n",
       "  </thead>\n",
       "  <tbody>\n",
       "    <tr>\n",
       "      <th>0</th>\n",
       "      <td>0.00</td>\n",
       "      <td>0.64</td>\n",
       "      <td>0.64</td>\n",
       "      <td>0.0</td>\n",
       "      <td>0.32</td>\n",
       "      <td>0.00</td>\n",
       "      <td>0.00</td>\n",
       "      <td>0.00</td>\n",
       "      <td>0.00</td>\n",
       "      <td>0.00</td>\n",
       "      <td>...</td>\n",
       "      <td>0.00</td>\n",
       "      <td>0.000</td>\n",
       "      <td>0.0</td>\n",
       "      <td>0.778</td>\n",
       "      <td>0.000</td>\n",
       "      <td>0.000</td>\n",
       "      <td>3.756</td>\n",
       "      <td>61</td>\n",
       "      <td>278</td>\n",
       "      <td>1</td>\n",
       "    </tr>\n",
       "    <tr>\n",
       "      <th>1</th>\n",
       "      <td>0.21</td>\n",
       "      <td>0.28</td>\n",
       "      <td>0.50</td>\n",
       "      <td>0.0</td>\n",
       "      <td>0.14</td>\n",
       "      <td>0.28</td>\n",
       "      <td>0.21</td>\n",
       "      <td>0.07</td>\n",
       "      <td>0.00</td>\n",
       "      <td>0.94</td>\n",
       "      <td>...</td>\n",
       "      <td>0.00</td>\n",
       "      <td>0.132</td>\n",
       "      <td>0.0</td>\n",
       "      <td>0.372</td>\n",
       "      <td>0.180</td>\n",
       "      <td>0.048</td>\n",
       "      <td>5.114</td>\n",
       "      <td>101</td>\n",
       "      <td>1028</td>\n",
       "      <td>1</td>\n",
       "    </tr>\n",
       "    <tr>\n",
       "      <th>2</th>\n",
       "      <td>0.06</td>\n",
       "      <td>0.00</td>\n",
       "      <td>0.71</td>\n",
       "      <td>0.0</td>\n",
       "      <td>1.23</td>\n",
       "      <td>0.19</td>\n",
       "      <td>0.19</td>\n",
       "      <td>0.12</td>\n",
       "      <td>0.64</td>\n",
       "      <td>0.25</td>\n",
       "      <td>...</td>\n",
       "      <td>0.01</td>\n",
       "      <td>0.143</td>\n",
       "      <td>0.0</td>\n",
       "      <td>0.276</td>\n",
       "      <td>0.184</td>\n",
       "      <td>0.010</td>\n",
       "      <td>9.821</td>\n",
       "      <td>485</td>\n",
       "      <td>2259</td>\n",
       "      <td>1</td>\n",
       "    </tr>\n",
       "    <tr>\n",
       "      <th>3</th>\n",
       "      <td>0.00</td>\n",
       "      <td>0.00</td>\n",
       "      <td>0.00</td>\n",
       "      <td>0.0</td>\n",
       "      <td>0.63</td>\n",
       "      <td>0.00</td>\n",
       "      <td>0.31</td>\n",
       "      <td>0.63</td>\n",
       "      <td>0.31</td>\n",
       "      <td>0.63</td>\n",
       "      <td>...</td>\n",
       "      <td>0.00</td>\n",
       "      <td>0.137</td>\n",
       "      <td>0.0</td>\n",
       "      <td>0.137</td>\n",
       "      <td>0.000</td>\n",
       "      <td>0.000</td>\n",
       "      <td>3.537</td>\n",
       "      <td>40</td>\n",
       "      <td>191</td>\n",
       "      <td>1</td>\n",
       "    </tr>\n",
       "    <tr>\n",
       "      <th>4</th>\n",
       "      <td>0.00</td>\n",
       "      <td>0.00</td>\n",
       "      <td>0.00</td>\n",
       "      <td>0.0</td>\n",
       "      <td>0.63</td>\n",
       "      <td>0.00</td>\n",
       "      <td>0.31</td>\n",
       "      <td>0.63</td>\n",
       "      <td>0.31</td>\n",
       "      <td>0.63</td>\n",
       "      <td>...</td>\n",
       "      <td>0.00</td>\n",
       "      <td>0.135</td>\n",
       "      <td>0.0</td>\n",
       "      <td>0.135</td>\n",
       "      <td>0.000</td>\n",
       "      <td>0.000</td>\n",
       "      <td>3.537</td>\n",
       "      <td>40</td>\n",
       "      <td>191</td>\n",
       "      <td>1</td>\n",
       "    </tr>\n",
       "    <tr>\n",
       "      <th>5</th>\n",
       "      <td>0.00</td>\n",
       "      <td>0.00</td>\n",
       "      <td>0.00</td>\n",
       "      <td>0.0</td>\n",
       "      <td>1.85</td>\n",
       "      <td>0.00</td>\n",
       "      <td>0.00</td>\n",
       "      <td>1.85</td>\n",
       "      <td>0.00</td>\n",
       "      <td>0.00</td>\n",
       "      <td>...</td>\n",
       "      <td>0.00</td>\n",
       "      <td>0.223</td>\n",
       "      <td>0.0</td>\n",
       "      <td>0.000</td>\n",
       "      <td>0.000</td>\n",
       "      <td>0.000</td>\n",
       "      <td>3.000</td>\n",
       "      <td>15</td>\n",
       "      <td>54</td>\n",
       "      <td>1</td>\n",
       "    </tr>\n",
       "  </tbody>\n",
       "</table>\n",
       "<p>6 rows × 58 columns</p>\n",
       "</div>"
      ],
      "text/plain": [
       "   word_freq_make:  word_freq_address:  word_freq_all:  word_freq_3d:  \\\n",
       "0             0.00                0.64            0.64            0.0   \n",
       "1             0.21                0.28            0.50            0.0   \n",
       "2             0.06                0.00            0.71            0.0   \n",
       "3             0.00                0.00            0.00            0.0   \n",
       "4             0.00                0.00            0.00            0.0   \n",
       "5             0.00                0.00            0.00            0.0   \n",
       "\n",
       "   word_freq_our:  word_freq_over:  word_freq_remove:  word_freq_internet:  \\\n",
       "0            0.32             0.00               0.00                 0.00   \n",
       "1            0.14             0.28               0.21                 0.07   \n",
       "2            1.23             0.19               0.19                 0.12   \n",
       "3            0.63             0.00               0.31                 0.63   \n",
       "4            0.63             0.00               0.31                 0.63   \n",
       "5            1.85             0.00               0.00                 1.85   \n",
       "\n",
       "   word_freq_order:  word_freq_mail:  ...  char_freq_;:  char_freq_(:  \\\n",
       "0              0.00             0.00  ...          0.00         0.000   \n",
       "1              0.00             0.94  ...          0.00         0.132   \n",
       "2              0.64             0.25  ...          0.01         0.143   \n",
       "3              0.31             0.63  ...          0.00         0.137   \n",
       "4              0.31             0.63  ...          0.00         0.135   \n",
       "5              0.00             0.00  ...          0.00         0.223   \n",
       "\n",
       "   char_freq_[:  char_freq_!:  char_freq_$:  char_freq_#:  \\\n",
       "0           0.0         0.778         0.000         0.000   \n",
       "1           0.0         0.372         0.180         0.048   \n",
       "2           0.0         0.276         0.184         0.010   \n",
       "3           0.0         0.137         0.000         0.000   \n",
       "4           0.0         0.135         0.000         0.000   \n",
       "5           0.0         0.000         0.000         0.000   \n",
       "\n",
       "   capital_run_length_average:  capital_run_length_longest:  \\\n",
       "0                        3.756                           61   \n",
       "1                        5.114                          101   \n",
       "2                        9.821                          485   \n",
       "3                        3.537                           40   \n",
       "4                        3.537                           40   \n",
       "5                        3.000                           15   \n",
       "\n",
       "   capital_run_length_total:  spam  \n",
       "0                        278     1  \n",
       "1                       1028     1  \n",
       "2                       2259     1  \n",
       "3                        191     1  \n",
       "4                        191     1  \n",
       "5                         54     1  \n",
       "\n",
       "[6 rows x 58 columns]"
      ]
     },
     "execution_count": 2,
     "metadata": {},
     "output_type": "execute_result"
    }
   ],
   "source": [
    "os.chdir('/Users/gua/Desktop') \n",
    "df = pd.read_csv(\"spam_dataset.csv\")\n",
    "df.head(6)"
   ]
  },
  {
   "cell_type": "markdown",
   "id": "49dcd70c",
   "metadata": {},
   "source": [
    "# 2.  Read through the documentation of the original dataset here: \n",
    "# The dependent variable is \"spam\" where one indicates that an email is spam and zero otherwise.  Which three variables in the dataset do you think will be important predictors in a model of spam?  Why?"
   ]
  },
  {
   "cell_type": "code",
   "execution_count": 3,
   "id": "87772279",
   "metadata": {},
   "outputs": [
    {
     "data": {
      "text/plain": [
       "Index(['word_freq_make:', 'word_freq_address:', 'word_freq_all:',\n",
       "       'word_freq_3d:', 'word_freq_our:', 'word_freq_over:',\n",
       "       'word_freq_remove:', 'word_freq_internet:', 'word_freq_order:',\n",
       "       'word_freq_mail:', 'word_freq_receive:', 'word_freq_will:',\n",
       "       'word_freq_people:', 'word_freq_report:', 'word_freq_addresses:',\n",
       "       'word_freq_free:', 'word_freq_business:', 'word_freq_email:',\n",
       "       'word_freq_you:', 'word_freq_credit:', 'word_freq_your:',\n",
       "       'word_freq_font:', 'word_freq_000:', 'word_freq_money:',\n",
       "       'word_freq_hp:', 'word_freq_hpl:', 'word_freq_george:',\n",
       "       'word_freq_650:', 'word_freq_lab:', 'word_freq_labs:',\n",
       "       'word_freq_telnet:', 'word_freq_857:', 'word_freq_data:',\n",
       "       'word_freq_415:', 'word_freq_85:', 'word_freq_technology:',\n",
       "       'word_freq_1999:', 'word_freq_parts:', 'word_freq_pm:',\n",
       "       'word_freq_direct:', 'word_freq_cs:', 'word_freq_meeting:',\n",
       "       'word_freq_original:', 'word_freq_project:', 'word_freq_re:',\n",
       "       'word_freq_edu:', 'word_freq_table:', 'word_freq_conference:',\n",
       "       'char_freq_;:', 'char_freq_(:', 'char_freq_[:', 'char_freq_!:',\n",
       "       'char_freq_$:', 'char_freq_#:', 'capital_run_length_average:',\n",
       "       'capital_run_length_longest:', 'capital_run_length_total:', 'spam'],\n",
       "      dtype='object')"
      ]
     },
     "execution_count": 3,
     "metadata": {},
     "output_type": "execute_result"
    }
   ],
   "source": [
    "df.columns"
   ]
  },
  {
   "cell_type": "markdown",
   "id": "5ec540fb",
   "metadata": {},
   "source": [
    "The three variables I chose were： \n",
    "\n",
    "1.'word_freq_internet:': percentage of words in the e-mail that match internet\n",
    "\n",
    "2.'char_freq_!:': percentage of characters in the e-mail that match !\n",
    "\n",
    "3.'capital_run_length_average:': average length of uninterrupted sequences of capital letters\n",
    "\n",
    "I picked one variable each for words, symbols, and capital letters. I think the word \"internet\" will be used a lot in ads, and both exclamation points and capital letters can convey strong emotions and might be used in promotional mailings. Therefore, these three variables can be important indicators to measure spam."
   ]
  },
  {
   "cell_type": "markdown",
   "id": "94b0a4ce",
   "metadata": {},
   "source": [
    "# 3.  Visualize the univariate distribution of each of the variables in the previous question. "
   ]
  },
  {
   "cell_type": "code",
   "execution_count": 4,
   "id": "b5457a0e",
   "metadata": {},
   "outputs": [
    {
     "data": {
      "text/plain": [
       "Text(0.5, 1.0, 'word_freq_internet:')"
      ]
     },
     "execution_count": 4,
     "metadata": {},
     "output_type": "execute_result"
    },
    {
     "data": {
      "image/png": "[encoded data removed]",
      "text/plain": [
       "<Figure size 432x288 with 1 Axes>"
      ]
     },
     "metadata": {
      "needs_background": "light"
     },
     "output_type": "display_data"
    }
   ],
   "source": [
    "df['word_freq_internet:'].hist()\n",
    "plt.xlabel('Times of Internet Per Email')\n",
    "plt.ylabel('Email Count')\n",
    "plt.title('word_freq_internet:')   "
   ]
  },
  {
   "cell_type": "code",
   "execution_count": 5,
   "id": "d55bed30",
   "metadata": {},
   "outputs": [
    {
     "data": {
      "text/plain": [
       "Text(0.5, 1.0, 'char_freq_!:')"
      ]
     },
     "execution_count": 5,
     "metadata": {},
     "output_type": "execute_result"
    },
    {
     "data": {
      "image/png": "[encoded data removed]",
      "text/plain": [
       "<Figure size 432x288 with 1 Axes>"
      ]
     },
     "metadata": {
      "needs_background": "light"
     },
     "output_type": "display_data"
    }
   ],
   "source": [
    "df['char_freq_!:'].hist()\n",
    "plt.xlabel('Times of ! Per Email')\n",
    "plt.ylabel('Email Count')\n",
    "plt.title('char_freq_!:')   "
   ]
  },
  {
   "cell_type": "code",
   "execution_count": 6,
   "id": "31147fbd",
   "metadata": {},
   "outputs": [
    {
     "data": {
      "text/plain": [
       "Text(0.5, 1.0, 'capital_run_length_average:')"
      ]
     },
     "execution_count": 6,
     "metadata": {},
     "output_type": "execute_result"
    },
    {
     "data": {
      "image/png": "[encoded data removed]",
      "text/plain": [
       "<Figure size 432x288 with 1 Axes>"
      ]
     },
     "metadata": {
      "needs_background": "light"
     },
     "output_type": "display_data"
    }
   ],
   "source": [
    "sns.histplot(df['capital_run_length_average:'], log_scale=True)\n",
    "plt.xlabel('Average Length')\n",
    "plt.ylabel('Email Count')\n",
    "plt.title('capital_run_length_average:')   "
   ]
  },
  {
   "cell_type": "markdown",
   "id": "3e9402bf",
   "metadata": {},
   "source": [
    "# 4. Name each of the supervised learning models that we have learned thus far that are used to predict dependent variables like \"spam\".   "
   ]
  },
  {
   "cell_type": "markdown",
   "id": "f9816a5c",
   "metadata": {},
   "source": [
    "Linear regression; Logistic regression; KNN Classifier; Decision Tree; Bagged Tree; Random forest"
   ]
  },
  {
   "cell_type": "markdown",
   "id": "ac51cd62",
   "metadata": {},
   "source": [
    "# 5. Describe the importance of training and test data.  Why do we separate data into these subsets?"
   ]
  },
  {
   "cell_type": "markdown",
   "id": "850ae11a",
   "metadata": {},
   "source": [
    "We need to separate the training set from the test set to ensure that the model can be generalized. We use the training set to build our model and the test set to evaluate the accuracy of our model. If we did not divide the data into subsets, the model would memorize the data in the training set. That is, we won't be able to verify that the model works on unknown data, and we won't be able to be sure that the model will perform well when predicting the data. Therefore, it is very important to split the data so that part of the data is used to develop the model and part of the data is used to test the model."
   ]
  },
  {
   "cell_type": "markdown",
   "id": "203b4a7d",
   "metadata": {},
   "source": [
    "# 6. What is k-fold cross validation and what do we use it for? "
   ]
  },
  {
   "cell_type": "markdown",
   "id": "110c866c",
   "metadata": {},
   "source": [
    "k-fold cross validation is a way to test performance on data. k means to split the dataset into 'k' partial folds. For example, performing 10-fold cross-validation implies k=10. We use k-fold cross validation to estimate the overall performance of the model when used to make predictions on data not used during model training."
   ]
  },
  {
   "cell_type": "markdown",
   "id": "635998a4",
   "metadata": {},
   "source": [
    "# 7. How is k-fold cross validation different from stratified k-fold cross validation?\n",
    "\n"
   ]
  },
  {
   "cell_type": "markdown",
   "id": "901cf320",
   "metadata": {},
   "source": [
    "Stratified k-fold cross validation ensures that each fold of the dataset has the same proportion of variables with a given label. For example, if our dataset contains 40% males and 60% females, then stratified k-fold cross validation will keep the same proportions in the validation and training sets. However, simple k-fold cross-validation cannot guarantee that each fold is representative, that is, there may be extreme cases where there are only males in the validation set."
   ]
  },
  {
   "cell_type": "markdown",
   "id": "fa8cbb62",
   "metadata": {},
   "source": [
    "# 8. Choose one model from question four.  Split the data into training and test subsets.  Build a model with the three variables in the dataset that you think will be good predictors of \"spam\".  Describe why you chose any particular parameters for your model (e.g.- if you used KNN how did you decide to choose a specific value for k).  Run the model and evaluate prediction error in two ways: A) On test data directly and B) using k-fold cross-validation.  "
   ]
  },
  {
   "cell_type": "code",
   "execution_count": 7,
   "id": "abdf7840",
   "metadata": {},
   "outputs": [
    {
     "name": "stdout",
     "output_type": "stream",
     "text": [
      "[(3450, 3), (1151, 3), (3450,), (1151,)]\n"
     ]
    }
   ],
   "source": [
    "X = df.loc[:, ['word_freq_internet:', 'char_freq_!:', 'capital_run_length_average:']]\n",
    "y = df['spam']\n",
    "\n",
    "X_train, X_test, y_train, y_test = train_test_split(X, y, random_state = 50)\n",
    "\n",
    "view_dimension = [X_train.shape, X_test.shape, y_train.shape, y_test.shape]\n",
    "print(view_dimension)"
   ]
  },
  {
   "cell_type": "code",
   "execution_count": 8,
   "id": "6e4b0290",
   "metadata": {},
   "outputs": [
    {
     "data": {
      "text/html": [
       "<div>\n",
       "<style scoped>\n",
       "    .dataframe tbody tr th:only-of-type {\n",
       "        vertical-align: middle;\n",
       "    }\n",
       "\n",
       "    .dataframe tbody tr th {\n",
       "        vertical-align: top;\n",
       "    }\n",
       "\n",
       "    .dataframe thead th {\n",
       "        text-align: right;\n",
       "    }\n",
       "</style>\n",
       "<table border=\"1\" class=\"dataframe\">\n",
       "  <thead>\n",
       "    <tr style=\"text-align: right;\">\n",
       "      <th></th>\n",
       "      <th>word_freq_internet:</th>\n",
       "      <th>char_freq_!:</th>\n",
       "      <th>capital_run_length_average:</th>\n",
       "    </tr>\n",
       "  </thead>\n",
       "  <tbody>\n",
       "    <tr>\n",
       "      <th>0</th>\n",
       "      <td>0.00</td>\n",
       "      <td>0.778</td>\n",
       "      <td>3.756</td>\n",
       "    </tr>\n",
       "    <tr>\n",
       "      <th>1</th>\n",
       "      <td>0.07</td>\n",
       "      <td>0.372</td>\n",
       "      <td>5.114</td>\n",
       "    </tr>\n",
       "    <tr>\n",
       "      <th>2</th>\n",
       "      <td>0.12</td>\n",
       "      <td>0.276</td>\n",
       "      <td>9.821</td>\n",
       "    </tr>\n",
       "    <tr>\n",
       "      <th>3</th>\n",
       "      <td>0.63</td>\n",
       "      <td>0.137</td>\n",
       "      <td>3.537</td>\n",
       "    </tr>\n",
       "    <tr>\n",
       "      <th>4</th>\n",
       "      <td>0.63</td>\n",
       "      <td>0.135</td>\n",
       "      <td>3.537</td>\n",
       "    </tr>\n",
       "  </tbody>\n",
       "</table>\n",
       "</div>"
      ],
      "text/plain": [
       "   word_freq_internet:  char_freq_!:  capital_run_length_average:\n",
       "0                 0.00         0.778                        3.756\n",
       "1                 0.07         0.372                        5.114\n",
       "2                 0.12         0.276                        9.821\n",
       "3                 0.63         0.137                        3.537\n",
       "4                 0.63         0.135                        3.537"
      ]
     },
     "execution_count": 8,
     "metadata": {},
     "output_type": "execute_result"
    }
   ],
   "source": [
    "X.head()"
   ]
  },
  {
   "cell_type": "code",
   "execution_count": 9,
   "id": "94ce71bc",
   "metadata": {},
   "outputs": [],
   "source": [
    "scaler = StandardScaler()\n",
    "scaler.fit(X_train)\n",
    "X_scaled = scaler.transform(X_train)\n",
    "X_test_scaled = scaler.transform(X_test)"
   ]
  },
  {
   "cell_type": "code",
   "execution_count": 10,
   "id": "29206114",
   "metadata": {},
   "outputs": [
    {
     "name": "stdout",
     "output_type": "stream",
     "text": [
      "default train scores 0.876\n",
      "default test scores 0.844\n",
      "CV Mean Score: 0.827\n",
      "\n",
      "Using GridSearchCV with 10-fold cross-validation\n",
      "best mean cross-validation score: 0.841\n",
      "best parameters: {'n_neighbors': 9}\n",
      "CV Mean Score using Best Parameters: 0.834\n",
      "test-set score: 0.844\n"
     ]
    }
   ],
   "source": [
    "knn_classifier = KNeighborsClassifier().fit(X_scaled, y_train)\n",
    "\n",
    "\n",
    "print(\"default train scores {:.3f}\".format(knn_classifier.score(X_scaled, y_train)))\n",
    "print(\"default test scores {:.3f}\".format(knn_classifier.score(X_test_scaled, y_test)))\n",
    "print(\"CV Mean Score: {:.3f}\".format(np.mean(cross_val_score(KNeighborsClassifier(), X_scaled, y_train, scoring=\"accuracy\"))))\n",
    "\n",
    "param_grid = {'n_neighbors': np.arange(1, 20, 1)}\n",
    "knn_gridmodel = GridSearchCV(KNeighborsClassifier(), param_grid=param_grid, cv=10)\n",
    "knn_gridmodel.fit(X_scaled, y_train)\n",
    "\n",
    "print('\\nUsing GridSearchCV with 10-fold cross-validation')\n",
    "print(\"best mean cross-validation score: {:.3f}\".format(knn_gridmodel.best_score_))\n",
    "print(\"best parameters: {}\".format(knn_gridmodel.best_params_))\n",
    "print(\"CV Mean Score using Best Parameters: {:.3f}\".format(np.mean(cross_val_score(KNeighborsClassifier(**knn_gridmodel.best_params_), X_scaled, y_train, scoring=\"accuracy\"))))\n",
    "print(\"test-set score: {:.3f}\".format(knn_gridmodel.score(X_test_scaled, y_test)))"
   ]
  },
  {
   "cell_type": "code",
   "execution_count": 11,
   "id": "0cabba2c",
   "metadata": {},
   "outputs": [
    {
     "name": "stdout",
     "output_type": "stream",
     "text": [
      "\n",
      "Shuffled K-Fold Scores\n",
      "best mean cross-validation score: 0.840\n",
      "best parameters: {'n_neighbors': 12}\n",
      "CV Mean Score using Best Parameters: 0.834\n",
      "test-set score: 0.840\n",
      "\n",
      "Stratified K-Fold Scores\n",
      "best mean cross-validation score: 0.841\n",
      "best parameters: {'n_neighbors': 9}\n",
      "CV Mean Score using Best Parameters: 0.834\n",
      "test-set score: 0.844\n"
     ]
    }
   ],
   "source": [
    "skfold = StratifiedKFold(n_splits=10)\n",
    "kfold = KFold(n_splits=10, shuffle=True, random_state = 50)\n",
    "\n",
    "param_grid = {'n_neighbors': np.arange(1, 20, 1)}\n",
    "knn_gridmodel_kfold = GridSearchCV(KNeighborsClassifier(), param_grid=param_grid, cv=kfold)\n",
    "knn_gridmodel_skfold = GridSearchCV(KNeighborsClassifier(), param_grid=param_grid, cv=skfold)\n",
    "\n",
    "knn_gridmodel_kfold.fit(X_scaled, y_train)\n",
    "knn_gridmodel_skfold.fit(X_scaled, y_train)\n",
    "\n",
    "print(\"\\nShuffled K-Fold Scores\")\n",
    "print(\"best mean cross-validation score: {:.3f}\".format(knn_gridmodel_kfold.best_score_))\n",
    "print(\"best parameters: {}\".format(knn_gridmodel_kfold.best_params_))\n",
    "print(\"CV Mean Score using Best Parameters: {:.3f}\".format(np.mean(cross_val_score(KNeighborsClassifier(**knn_gridmodel_kfold.best_params_), X_scaled, y_train, scoring=\"accuracy\"))))\n",
    "print(\"test-set score: {:.3f}\".format(knn_gridmodel_kfold.score(X_test_scaled, y_test)))\n",
    "\n",
    "print(\"\\nStratified K-Fold Scores\")\n",
    "print(\"best mean cross-validation score: {:.3f}\".format(knn_gridmodel_skfold.best_score_))\n",
    "print(\"best parameters: {}\".format(knn_gridmodel_skfold.best_params_))\n",
    "print(\"CV Mean Score using Best Parameters: {:.3f}\".format(np.mean(cross_val_score(KNeighborsClassifier(**knn_gridmodel_skfold.best_params_), X_scaled, y_train, scoring=\"accuracy\"))))\n",
    "print(\"test-set score: {:.3f}\".format(knn_gridmodel_skfold.score(X_test_scaled, y_test)))"
   ]
  },
  {
   "cell_type": "markdown",
   "id": "15d97149",
   "metadata": {},
   "source": [
    "# 9. Choose a second model from question four.  Using the same three variables in the dataset that you think will be good predictors of \"spam\".  Describe why you chose any particular parameters for your model (e.g.- if you used KNN how did you decide to choose a specific value for k).  Run the model and evaluate prediction error in two ways: A) On test data directly and B) using k-fold cross-validation.  Did this model predict test data better than your previous model?"
   ]
  },
  {
   "cell_type": "code",
   "execution_count": 12,
   "id": "52ae8b9f",
   "metadata": {},
   "outputs": [
    {
     "name": "stdout",
     "output_type": "stream",
     "text": [
      "SCALED DATA RESULTS\n",
      "default train score: 0.980\n",
      "default test score: 0.861\n",
      "CV Mean Score: 0.829\n",
      "\n",
      "UNSCALED DATA RESULTS\n",
      "default train score: 0.980\n",
      "default test score: 0.861\n",
      "CV Mean Score: 0.825\n"
     ]
    }
   ],
   "source": [
    "random_forest_scaled = RandomForestClassifier(n_estimators=200)\n",
    "random_forest_scaled.fit(X_scaled, y_train)\n",
    "\n",
    "print('SCALED DATA RESULTS')\n",
    "print('default train score: {:.3f}'.format(random_forest_scaled.score(X_scaled, y_train)))\n",
    "print('default test score: {:.3f}'.format(random_forest_scaled.score(X_test_scaled, y_test)))\n",
    "print(\"CV Mean Score: {:.3f}\".format(np.mean(cross_val_score(RandomForestClassifier(), X_scaled, y_train, scoring=\"accuracy\"))))\n",
    "\n",
    "print('\\nUNSCALED DATA RESULTS')\n",
    "random_forest_unscaled = RandomForestClassifier(n_estimators=200)\n",
    "random_forest_unscaled.fit(X_train, y_train)\n",
    "print('default train score: {:.3f}'.format(random_forest_unscaled.score(X_train, y_train)))\n",
    "print('default test score: {:.3f}'.format(random_forest_unscaled.score(X_test, y_test)))\n",
    "print(\"CV Mean Score: {:.3f}\".format(np.mean(cross_val_score(RandomForestClassifier(), X_train, y_train, scoring=\"accuracy\"))))"
   ]
  },
  {
   "cell_type": "code",
   "execution_count": 13,
   "id": "797eba22",
   "metadata": {},
   "outputs": [
    {
     "name": "stdout",
     "output_type": "stream",
     "text": [
      "best mean cross-validation score: 0.849\n",
      "best parameters: {'criterion': 'gini', 'max_depth': 7, 'n_estimators': 450}\n",
      "CV Mean Score: 0.843\n",
      "test-set score: 0.862\n"
     ]
    }
   ],
   "source": [
    "param_grid = {'n_estimators': np.arange(100, 500, 50), 'criterion': ['gini', 'entropy'], 'max_depth': np.arange(1, 8, 1)}\n",
    "random_forest_2 = GridSearchCV(RandomForestClassifier(), param_grid=param_grid, cv=10)\n",
    "\n",
    "random_forest_2.fit(X_scaled, y_train)\n",
    "\n",
    "print(\"best mean cross-validation score: {:.3f}\".format(random_forest_2.best_score_))\n",
    "print(\"best parameters: {}\".format(random_forest_2.best_params_))\n",
    "print(\"CV Mean Score: {:.3f}\".format(np.mean(cross_val_score(RandomForestClassifier(**random_forest_2.best_params_), X_scaled, y_train, scoring=\"accuracy\"))))\n",
    "print(\"test-set score: {:.3f}\".format(random_forest_2.score(X_test_scaled, y_test)))"
   ]
  },
  {
   "cell_type": "code",
   "execution_count": null,
   "id": "f767b6ca",
   "metadata": {},
   "outputs": [],
   "source": [
    "param_grid = {'n_estimators': np.arange(100, 500, 50), 'criterion': ['gini', 'entropy'], 'max_depth': np.arange(1, 8, 1)}\n",
    "\n",
    "rand_forest_kfold = GridSearchCV(RandomForestClassifier(), param_grid=param_grid, cv=kfold)\n",
    "rand_forest_skfold = GridSearchCV(RandomForestClassifier(), param_grid=param_grid, cv=skfold)\n",
    "\n",
    "rand_forest_kfold.fit(X_train, y_train)\n",
    "rand_forest_skfold.fit(X_train, y_train)\n",
    "\n",
    "print(\"\\nShuffled K-Fold Scores\")\n",
    "print(\"best mean cross-validation score: {:.3f}\".format(rand_forest_kfold.best_score_))\n",
    "print(\"best parameters: {}\".format(rand_forest_kfold.best_params_))\n",
    "print(\"CV Mean Score: {:.3f}\".format(np.mean(cross_val_score(RandomForestClassifier(**rand_forest_kfold.best_params_), X_scaled, y_train, scoring=\"accuracy\"))))\n",
    "print(\"test-set score: {:.3f}\".format(rand_forest_kfold.score(X_test_scaled, y_test)))\n",
    "\n",
    "print(\"\\nStratified K-Fold Scores\")\n",
    "print(\"best mean cross-validation score: {:.3f}\".format(rand_forest_skfold.best_score_))\n",
    "print(\"best parameters: {}\".format(rand_forest_skfold.best_params_))\n",
    "print(\"CV Mean Score: {:.3f}\".format(np.mean(cross_val_score(RandomForestClassifier(**rand_forest_skfold.best_params_), X_scaled, y_train, scoring=\"accuracy\"))))\n",
    "print(\"test-set score: {:.3f}\".format(rand_forest_skfold.score(X_test_scaled, y_test)))"
   ]
  },
  {
   "cell_type": "markdown",
   "id": "c8553746",
   "metadata": {},
   "source": [
    "# 10. Choose a third model from question four. Using the same three variables in the dataset that you think will be good predictors of \"spam\". Describe why you chose any particular parameters for your model (e.g.- if you used KNN how did you decide to choose a specific value for k). Run the model and evaluate prediction error in two ways: A) On test data directly and B) using k-fold cross-validation. Did this model predict test data better than your previous models?"
   ]
  },
  {
   "cell_type": "code",
   "execution_count": null,
   "id": "8d104968",
   "metadata": {},
   "outputs": [],
   "source": [
    "tree = DecisionTreeClassifier() \n",
    "bag = BaggingClassifier(tree, n_estimators=100)\n",
    "bag.fit(X_scaled, y_train)\n",
    "\n",
    "print('SCALED DATA RESULTS')\n",
    "print('default train score: {:.3f}'.format(bag.score(X_scaled, y_train)))\n",
    "print('default test score: {:.3f}'.format(bag.score(X_test_scaled, y_test)))\n",
    "print(\"CV Mean Score: {:.3f}\".format(np.mean(cross_val_score(BaggingClassifier(), X_scaled, y_train, scoring=\"accuracy\"))))\n",
    "\n",
    "print('\\nUNSCALED DATA RESULTS')\n",
    "bag_unscaled = BaggingClassifier(tree, n_estimators=100)\n",
    "bag_unscaled.fit(X_train, y_train)\n",
    "print('default train score: {:.3f}'.format(bag_unscaled.score(X_train, y_train)))\n",
    "print('default test score: {:.3f}'.format(bag_unscaled.score(X_test, y_test)))\n",
    "print(\"CV Mean Score: {:.3f}\".format(np.mean(cross_val_score(BaggingClassifier(), X_train, y_train, scoring=\"accuracy\"))))"
   ]
  },
  {
   "cell_type": "code",
   "execution_count": null,
   "id": "e5ee1107",
   "metadata": {},
   "outputs": [],
   "source": [
    "param_grid = {'n_estimators': np.arange(100, 300, 50), 'max_samples': [0.01, 0.1, 1]}\n",
    "\n",
    "bag_scaled = GridSearchCV(BaggingClassifier(base_estimator = DecisionTreeClassifier()), param_grid=param_grid, cv=10)\n",
    "bag_scaled.fit(X_train, y_train)\n",
    "\n",
    "print(\"best mean cross-validation score: {:.3f}\".format(bag_scaled.best_score_))\n",
    "print(\"best parameters: {}\".format(bag_scaled.best_params_))\n",
    "print(\"CV Mean Score using Best Parameters: {:.3f}\".format(np.mean(cross_val_score(BaggingClassifier(base_estimator = DecisionTreeClassifier(), **bag_scaled.best_params_), X_train, y_train, scoring=\"accuracy\"))))\n",
    "print(\"test-set score: {:.3f}\".format(bag_scaled.score(X_test, y_test)))"
   ]
  },
  {
   "cell_type": "code",
   "execution_count": null,
   "id": "d055c118",
   "metadata": {},
   "outputs": [],
   "source": [
    "param_grid = {'n_estimators': np.arange(100, 300, 50), 'max_samples': [0.01, 0.1, 1]}\n",
    "\n",
    "bag_scaled_kfold = GridSearchCV(BaggingClassifier(DecisionTreeClassifier()), param_grid=param_grid, cv=kfold)\n",
    "bag_scaled_skfold = GridSearchCV(BaggingClassifier(DecisionTreeClassifier()), param_grid=param_grid, cv=skfold)\n",
    "\n",
    "bag_scaled_kfold.fit(X_train, y_train)\n",
    "bag_scaled_skfold.fit(X_train, y_train)\n",
    "\n",
    "print(\"\\nShuffled K-Fold Scores\")\n",
    "print(\"best mean cross-validation score: {:.3f}\".format(bag_scaled_kfold.best_score_))\n",
    "print(\"best parameters: {}\".format(bag_scaled_kfold.best_params_))\n",
    "print(\"CV Mean Score with Best Parameters: {:.3f}\".format(np.mean(cross_val_score(BaggingClassifier(DecisionTreeClassifier(), **bag_scaled_kfold.best_params_), X_scaled, y_train, scoring=\"accuracy\"))))\n",
    "print(\"test-set score: {:.3f}\".format(bag_scaled_kfold.score(X_test_scaled, y_test)))\n",
    "\n",
    "print(\"\\nStratified K-Fold Scores\")\n",
    "print(\"best mean cross-validation score: {:.3f}\".format(bag_scaled_skfold.best_score_))\n",
    "print(\"best parameters: {}\".format(bag_scaled_skfold.best_params_))\n",
    "print(\"CV Mean Score with Best Parameters: {:.3f}\".format(np.mean(cross_val_score(BaggingClassifier(DecisionTreeClassifier(), **bag_scaled_skfold.best_params_), X_scaled, y_train, scoring=\"accuracy\"))))\n",
    "print(\"test-set score: {:.3f}\".format(bag_scaled_skfold.score(X_test_scaled, y_test)))"
   ]
  },
  {
   "cell_type": "markdown",
   "id": "2ed78597",
   "metadata": {},
   "source": [
    "# 11. Choose a fourth model from question four.  Using the same three variables in the dataset that you think will be good predictors of \"spam\".  Describe why you chose any particular parameters for your model (e.g.- if you used KNN how did you decide to choose a specific value for k). Run the model and evaluate prediction error in two ways: A) On test data directly and B) using k-fold cross-validation. Evaluate prediction error, did this model predict better than your previous models?"
   ]
  },
  {
   "cell_type": "code",
   "execution_count": null,
   "id": "1dbf25e4",
   "metadata": {},
   "outputs": [],
   "source": [
    "svc_scaled = SVC(kernel = \"rbf\", C = 1)\n",
    "svc_scaled.fit(X_scaled, y_train)\n",
    "\n",
    "print('RBF SCALED DATA RESULTS')\n",
    "print('default train score: {:.3f}'.format(svc_scaled.score(X_scaled, y_train)))\n",
    "print('default test score: {:.3f}'.format(svc_scaled.score(X_test_scaled, y_test)))\n",
    "print(\"CV Mean Score: {:.3f}\".format(np.mean(cross_val_score(SVC(), X_scaled, y_train, scoring=\"accuracy\"))))\\\n",
    "\n",
    "print('\\nRBF UNSCALED DATA RESULTS')\n",
    "svc_unscaled = SVC(kernel = \"rbf\", C = 1)\n",
    "svc_unscaled.fit(X_train, y_train)\n",
    "print('default train score: {:.3f}'.format(svc_unscaled.score(X_train, y_train)))\n",
    "print('default test score: {:.3f}'.format(svc_unscaled.score(X_test, y_test)))\n",
    "print(\"CV Mean Score: {:.3f}\".format(np.mean(cross_val_score(SVC(), X_scaled, y_train, scoring=\"accuracy\"))))"
   ]
  },
  {
   "cell_type": "code",
   "execution_count": null,
   "id": "ee214f9f",
   "metadata": {},
   "outputs": [],
   "source": [
    "svc_scaled = SVC(kernel = \"linear\", C = 1)\n",
    "svc_scaled.fit(X_scaled, y_train)\n",
    "\n",
    "print('LINEAR SCALED DATA RESULTS')\n",
    "print('default train score: {:.3f}'.format(svc_scaled.score(X_scaled, y_train)))\n",
    "print('default test score: {:.3f}'.format(svc_scaled.score(X_test_scaled, y_test)))\n",
    "print(\"CV Mean Score: {:.3f}\".format(np.mean(cross_val_score(SVC(), X_scaled, y_train, scoring=\"accuracy\"))))\\\n",
    "\n",
    "print('\\nLINEAR UNSCALED DATA RESULTS')\n",
    "svc_unscaled = SVC(kernel = \"linear\", C = 1)\n",
    "svc_unscaled.fit(X_train, y_train)\n",
    "print('default train score: {:.3f}'.format(svc_unscaled.score(X_train, y_train)))\n",
    "print('default test score: {:.3f}'.format(svc_unscaled.score(X_test, y_test)))\n",
    "print(\"CV Mean Score: {:.3f}\".format(np.mean(cross_val_score(SVC(), X_scaled, y_train, scoring=\"accuracy\"))))"
   ]
  },
  {
   "cell_type": "code",
   "execution_count": null,
   "id": "79891f72",
   "metadata": {},
   "outputs": [],
   "source": [
    "param_grid = {'gamma': ['scale', 'auto']}\n",
    "\n",
    "svc_2 = GridSearchCV(SVC(kernel = \"rbf\"), param_grid=param_grid, cv=10)\n",
    "svc_2.fit(X_scaled, y_train)\n",
    "\n",
    "print(\"best mean cross-validation score: {:.3f}\".format(svc_2.best_score_))\n",
    "print(\"best parameters: {}\".format(svc_2.best_params_))\n",
    "print(\"CV Mean Score with Best Parameters: {:.3f}\".format(np.mean(cross_val_score(SVC(**svc_2.best_params_), X_scaled, y_train, scoring=\"accuracy\"))))\n",
    "print(\"test-set score: {:.3f}\".format(svc_2.score(X_test_scaled, y_test)))"
   ]
  },
  {
   "cell_type": "code",
   "execution_count": null,
   "id": "98ab8409",
   "metadata": {},
   "outputs": [],
   "source": [
    "param_grid = {'C': np.arange(-5, 5, 1)}\n",
    "\n",
    "svc_2 = GridSearchCV(SVC(gamma = 'scale', kernel = \"rbf\"), param_grid=param_grid, cv=10)\n",
    "svc_2.fit(X_scaled, y_train)\n",
    "\n",
    "print(\"best mean cross-validation score: {:.3f}\".format(svc_2.best_score_))\n",
    "print(\"best parameters: {}\".format(svc_2.best_params_))\n",
    "print(\"CV Mean Score with Best Parameters: {:.3f}\".format(np.mean(cross_val_score(SVC(**svc_2.best_params_), X_scaled, y_train, scoring=\"accuracy\"))))\n",
    "print(\"test-set score: {:.3f}\".format(svc_2.score(X_test_scaled, y_test)))"
   ]
  },
  {
   "cell_type": "code",
   "execution_count": null,
   "id": "a557f7e0",
   "metadata": {},
   "outputs": [],
   "source": [
    "param_grid = {'C': np.arange(-5, 5, 1)}\n",
    "skfold = StratifiedKFold(n_splits=10)\n",
    "kfold = KFold(n_splits=10, shuffle=True, random_state = 50)\n",
    "\n",
    "svc_kfold = GridSearchCV(SVC(gamma = 'scale', kernel = \"rbf\"), param_grid=param_grid, cv=kfold)\n",
    "svc_skfold = GridSearchCV(SVC(gamma = 'scale', kernel = \"rbf\"), param_grid=param_grid, cv=skfold)\n",
    "\n",
    "svc_kfold.fit(X_scaled, y_train)\n",
    "svc_skfold.fit(X_scaled, y_train)\n",
    "\n",
    "print(\"\\nShuffled K-Fold Scores\")\n",
    "print(\"best mean cross-validation score: {:.3f}\".format(svc_kfold.best_score_))\n",
    "print(\"best parameters: {}\".format(svc_kfold.best_params_))\n",
    "print(\"CV Mean Score: {:.3f}\".format(np.mean(cross_val_score(SVC(**svc_kfold.best_params_), X_scaled, y_train, scoring=\"accuracy\"))))\n",
    "print(\"test-set score: {:.3f}\".format(svc_kfold.score(X_test_scaled, y_test)))\n",
    "\n",
    "print(\"\\nStratified K-Fold Scores\")\n",
    "print(\"best mean cross-validation score: {:.3f}\".format(svc_skfold.best_score_))\n",
    "print(\"best parameters: {}\".format(svc_skfold.best_params_))\n",
    "print(\"CV Mean Score: {:.3f}\".format(np.mean(cross_val_score(SVC(**svc_skfold.best_params_), X_scaled, y_train, scoring=\"accuracy\"))))\n",
    "print(\"test-set score: {:.3f}\".format(svc_skfold.score(X_test_scaled, y_test)))"
   ]
  },
  {
   "cell_type": "markdown",
   "id": "353f27f8",
   "metadata": {},
   "source": [
    "# 12. Now rerun your best model from questions 8 through 11, but this time add three new variables to the model that you think will increase prediction accuracy.   Did this model predict test data better than your previous models?  "
   ]
  },
  {
   "cell_type": "markdown",
   "id": "65a9e5da",
   "metadata": {},
   "source": [
    "I added three new variables :' word_freq_free:', 'capital_run_length_total:', 'char_freq_$:'."
   ]
  },
  {
   "cell_type": "code",
   "execution_count": null,
   "id": "6d92468b",
   "metadata": {},
   "outputs": [],
   "source": [
    "X_6var = df.loc[:, ['word_freq_internet:', 'char_freq_!:', 'capital_run_length_average:', 'word_freq_free:', 'capital_run_length_total:', 'char_freq_$:']]\n",
    "y = df['spam']\n",
    "\n",
    "X_train_6var, X_test_6var, y_train_6var, y_test_6var = train_test_split(X_6var, y, random_state = 50)\n",
    "\n",
    "view_dimension = [X_train_6var.shape, X_test_6var.shape, y_train_6var.shape, y_test_6var.shape]\n",
    "print(view_dimension)"
   ]
  },
  {
   "cell_type": "code",
   "execution_count": null,
   "id": "3961b3cf",
   "metadata": {},
   "outputs": [],
   "source": [
    "scaler = StandardScaler()\n",
    "scaler.fit(X_train_6var)\n",
    "X_train_scaled_6var = scaler.transform(X_train_6var)\n",
    "X_test_scaled_6var = scaler.transform(X_test_6var)\n",
    "\n",
    "view_dimension = [X_train_scaled_6var.shape, X_test_scaled_6var.shape]\n",
    "print(view_dimension)"
   ]
  },
  {
   "cell_type": "code",
   "execution_count": null,
   "id": "0e9e9645",
   "metadata": {},
   "outputs": [],
   "source": [
    "param_grid = {'n_neighbors': np.arange(5, 18, 2)} \n",
    "knn_classifier_6var = KNeighborsClassifier().fit(X_train_scaled_6var, y_train_6var)\n",
    "\n",
    "print(\"default train scores {:.3f}\".format(knn_classifier_6var.score(X_train_scaled_6var, y_train_6var)))\n",
    "print(\"default test scores {:.3f}\".format(knn_classifier_6var.score(X_test_scaled_6var, y_test_6var)))\n",
    "print(\"CV Mean Score: {:.3f}\".format(np.mean(cross_val_score(KNeighborsClassifier(), X_train_scaled_6var, y_train_6var, scoring=\"accuracy\"))))\n",
    "\n",
    "knn_gridmodel_6var = GridSearchCV(KNeighborsClassifier(), param_grid=param_grid, cv=5)\n",
    "\n",
    "knn_gridmodel_6var.fit(X_train_scaled_6var, y_train_6var)\n",
    "\n",
    "print('\\nUsing GridSearchCV with 5-fold cross-validation')\n",
    "print(\"best mean cross-validation score: {:.3f}\".format(knn_gridmodel_6var.best_score_))\n",
    "print(\"best parameters: {}\".format(knn_gridmodel_6var.best_params_))\n",
    "print(\"CV Mean Score using Best Parameters: {:.3f}\".format(np.mean(cross_val_score(KNeighborsClassifier(**knn_gridmodel_6var.best_params_), X_train_scaled_6var, y_train_6var, scoring=\"accuracy\"))))\n",
    "print(\"test scores {:.3f}\".format(knn_gridmodel_6var.score(X_test_scaled_6var, y_test_6var)))"
   ]
  },
  {
   "cell_type": "code",
   "execution_count": null,
   "id": "185c94a4",
   "metadata": {},
   "outputs": [],
   "source": [
    "skfold = StratifiedKFold(n_splits=5)\n",
    "kfold = KFold(n_splits=10, shuffle=True, random_state = 50)\n",
    "\n",
    "param_grid = {'n_neighbors': np.arange(1, 15, 2)} \n",
    "\n",
    "knn_gridmodel_kfold = GridSearchCV(KNeighborsClassifier(), param_grid=param_grid, cv=kfold)\n",
    "knn_gridmodel_skfold = GridSearchCV(KNeighborsClassifier(), param_grid=param_grid, cv=skfold)\n",
    "\n",
    "knn_gridmodel_kfold.fit(X_train_scaled_6var, y_train)\n",
    "knn_gridmodel_skfold.fit(X_train_scaled_6var, y_train)\n",
    "\n",
    "print(\"\\nShuffled K-Fold (5 splits) Scores\")\n",
    "print(\"best mean cross-validation score: {:.3f}\".format(knn_gridmodel_kfold.best_score_))\n",
    "print(\"best parameters: {}\".format(knn_gridmodel_kfold.best_params_))\n",
    "print(\"CV Mean Score using Best Parameters: {:.3f}\".format(np.mean(cross_val_score(KNeighborsClassifier(**knn_gridmodel_kfold.best_params_), X_train_scaled_6var, y_train_6var, scoring=\"accuracy\"))))\n",
    "print(\"test-set score: {:.3f}\".format(knn_gridmodel_kfold.score(X_test_scaled_6var, y_test_6var)))\n",
    "\n",
    "print(\"\\nStratified K-Fold Scores\")\n",
    "print(\"best mean cross-validation score: {:.3f}\".format(knn_gridmodel_skfold.best_score_))\n",
    "print(\"best parameters: {}\".format(knn_gridmodel_skfold.best_params_))\n",
    "print(\"CV Mean Score using Best Parameters: {:.3f}\".format(np.mean(cross_val_score(KNeighborsClassifier(**knn_gridmodel_skfold.best_params_), X_train_scaled_6var, y_train_6var, scoring=\"accuracy\"))))\n",
    "print(\"test-set score: {:.3f}\".format(knn_gridmodel_skfold.score(X_test_scaled_6var, y_test_6var)))"
   ]
  },
  {
   "cell_type": "markdown",
   "id": "cd1c9465",
   "metadata": {},
   "source": [
    "# 13. Rerun all your other models with this final set of six variables, evaluate prediction error, and choose a final model.  Why did you select this model among all of the models that you ran?  "
   ]
  },
  {
   "cell_type": "markdown",
   "id": "0543b2ff",
   "metadata": {},
   "source": [
    "Model 2 Random Forest"
   ]
  },
  {
   "cell_type": "code",
   "execution_count": null,
   "id": "afc02295",
   "metadata": {},
   "outputs": [],
   "source": [
    "random_forest_scaled_6var = RandomForestClassifier(n_estimators=200)\n",
    "random_forest_scaled_6var.fit(X_train_scaled_6var, y_train_6var)\n",
    "\n",
    "print('6 VARIABLE - SCALED DATA RESULTS')\n",
    "print('default train score: {:.3f}'.format(random_forest_scaled_6var.score(X_train_scaled_6var, y_train_6var)))\n",
    "print('default test score: {:.3f}'.format(random_forest_scaled_6var.score(X_test_scaled_6var, y_test_6var)))\n",
    "print(\"CV Mean Score: {:.3f}\".format(np.mean(cross_val_score(RandomForestClassifier(), X_train_scaled_6var, y_train_6var, scoring=\"accuracy\"))))\n",
    "\n",
    "print('\\n6 VARIABLE - UNSCALED DATA RESULTS')\n",
    "random_forest_unscaled_6var = RandomForestClassifier(n_estimators=200)\n",
    "random_forest_unscaled_6var.fit(X_train_6var, y_train_6var)\n",
    "print('default train score: {:.3f}'.format(random_forest_unscaled_6var.score(X_train_6var, y_train_6var)))\n",
    "print('default test score: {:.3f}'.format(random_forest_unscaled_6var.score(X_test_6var, y_test_6var)))\n",
    "print(\"CV Mean Score: {:.3f}\".format(np.mean(cross_val_score(RandomForestClassifier(), X_train_6var, y_train_6var, scoring=\"accuracy\"))))\n",
    "\n",
    "param_grid = {'n_estimators': np.arange(100, 500, 100), 'criterion': ['gini', 'entropy'], 'max_depth': np.arange(1, 8, 1)}\n",
    "\n",
    "random_forest_6var = GridSearchCV(RandomForestClassifier(), param_grid=param_grid, cv=10)\n",
    "random_forest_6var.fit(X_train_scaled_6var, y_train_6var)\n",
    "\n",
    "print(\"\\nGridSearchCV Performance Metrics\")\n",
    "print(\"best mean cross-validation score: {:.3f}\".format(random_forest_6var.best_score_))\n",
    "print(\"best parameters: {}\".format(random_forest_6var.best_params_))\n",
    "print(\"CV Mean Score with Best Parameters: {:.3f}\".format(np.mean(cross_val_score(RandomForestClassifier(**random_forest_6var.best_params_), X_train_scaled_6var, y_train_6var, scoring=\"accuracy\"))))\n",
    "print(\"test-set score: {:.3f}\".format(random_forest_6var.score(X_test_scaled_6var, y_test_6var)))"
   ]
  },
  {
   "cell_type": "markdown",
   "id": "20b8b12f",
   "metadata": {},
   "source": [
    "Model 3 decision tree"
   ]
  },
  {
   "cell_type": "code",
   "execution_count": null,
   "id": "2c9c3e86",
   "metadata": {},
   "outputs": [],
   "source": [
    "tree = DecisionTreeClassifier() \n",
    "\n",
    "print('SCALED DATA RESULTS')\n",
    "bag_6var = BaggingClassifier(tree, n_estimators=100)\n",
    "bag_6var.fit(X_train_scaled_6var, y_train_6var)\n",
    "print('default train score: {:.3f}'.format(bag_6var.score(X_train_scaled_6var, y_train_6var)))\n",
    "print('default test score: {:.3f}'.format(bag_6var.score(X_test_scaled_6var, y_test_6var)))\n",
    "print(\"CV Mean Score: {:.3f}\".format(np.mean(cross_val_score(BaggingClassifier(), X_train_scaled_6var, y_train_6var, scoring=\"accuracy\"))))\n",
    "\n",
    "print('\\nUNSCALED DATA RESULTS')\n",
    "bag_unscaled_6var = BaggingClassifier(tree, n_estimators=100)\n",
    "bag_unscaled_6var.fit(X_train_6var, y_train_6var)\n",
    "print('default train score: {:.3f}'.format(bag_unscaled_6var.score(X_train_6var, y_train_6var)))\n",
    "print('default test score: {:.3f}'.format(bag_unscaled_6var.score(X_test_6var, y_test_6var)))\n",
    "print(\"CV Mean Score: {:.3f}\".format(np.mean(cross_val_score(BaggingClassifier(), X_train_6var, y_train_6var, scoring=\"accuracy\"))))"
   ]
  },
  {
   "cell_type": "code",
   "execution_count": null,
   "id": "bc592373",
   "metadata": {},
   "outputs": [],
   "source": [
    "param_grid = {'n_estimators': np.arange(100, 300, 50), 'max_samples': np.logspace(-5, 0, base = 10)}\n",
    "\n",
    "bag_6var = GridSearchCV(BaggingClassifier(base_estimator = DecisionTreeClassifier()), param_grid=param_grid, cv=10)\n",
    "\n",
    "bag_6var.fit(X_train_6var, y_train_6var)\n",
    "\n",
    "print(\"best mean cross-validation score: {:.3f}\".format(bag_6var.best_score_))\n",
    "print(\"best parameters: {}\".format(bag_6var.best_params_))\n",
    "print(\"CV Mean Score using Best Parameters: {:.3f}\".format(np.mean(cross_val_score(BaggingClassifier(base_estimator = DecisionTreeClassifier(), **bag_scaled_6var.best_params_), X_train_6var, y_train_6var, scoring=\"accuracy\"))))\n",
    "print(\"test-set score: {:.3f}\".format(bag_6var.score(X_test_6var, y_test_6var)))"
   ]
  },
  {
   "cell_type": "markdown",
   "id": "072290d7",
   "metadata": {},
   "source": [
    "Model 4 SVC"
   ]
  },
  {
   "cell_type": "code",
   "execution_count": null,
   "id": "7299afd9",
   "metadata": {},
   "outputs": [],
   "source": [
    "param_grid = {'C': np.arange(0, 10, 1)}\n",
    "\n",
    "svc_2_6var = GridSearchCV(SVC(gamma = 'scale'), param_grid=param_grid, cv=10)\n",
    "svc_2_6var.fit(X_train_scaled_6var, y_train)\n",
    "\n",
    "print(\"best mean cross-validation score: {:.3f}\".format(svc_2_6var.best_score_))\n",
    "print(\"best parameters: {}\".format(svc_2_6var.best_params_))\n",
    "print(\"CV Mean Score with Best Parameters: {:.3f}\".format(np.mean(cross_val_score(SVC(**svc_2_6var.best_params_), X_train_scaled_6var, y_train, scoring=\"accuracy\"))))\n",
    "print(\"test-set score: {:.3f}\".format(svc_2_6var.score(X_test_scaled_6var, y_test)))"
   ]
  },
  {
   "cell_type": "markdown",
   "id": "11c686d0",
   "metadata": {},
   "source": [
    "I chose RandomForest as the best model because it has the highest test values."
   ]
  },
  {
   "cell_type": "markdown",
   "id": "d79f451d",
   "metadata": {},
   "source": [
    "# 14. What variable that currently is not in your model, if included, would be likely to increase your final model's predictive power?  For this answer try to speculate about a variable outside the variables available in the data that would improve you model."
   ]
  },
  {
   "cell_type": "markdown",
   "id": "e04ba6c1",
   "metadata": {},
   "source": [
    "I think the number of images in an email could be a key variable. Spam, especially advertising type mail, is likely to contain images to attract the user's attention. Adding the number of images contained in an email to the predictor might improve my model's ability to predict spam."
   ]
  },
  {
   "cell_type": "markdown",
   "id": "0902a088",
   "metadata": {},
   "source": [
    "# 15. Lastly, you have listed each of the models that we have learned to use to predict dependent variables like spam.  List each model we have focused on in class thus far that you could use to evaluate data with a continuous dependent variable. "
   ]
  },
  {
   "cell_type": "markdown",
   "id": "7a438b5a",
   "metadata": {},
   "source": [
    "(penalized and non-penalized) Logistic Regression; Linear Regression; KNN Regressor; Ridge; Lasso; SVM; Decision Tree; Bagged Tree; Random Forest Regressor"
   ]
  }
 ],
 "metadata": {
  "kernelspec": {
   "display_name": "Python 3 (ipykernel)",
   "language": "python",
   "name": "python3"
  },
  "language_info": {
   "codemirror_mode": {
    "name": "ipython",
    "version": 3
   },
   "file_extension": ".py",
   "mimetype": "text/x-python",
   "name": "python",
   "nbconvert_exporter": "python",
   "pygments_lexer": "ipython3",
   "version": "3.9.12"
  }
 },
 "nbformat": 4,
 "nbformat_minor": 5
}
